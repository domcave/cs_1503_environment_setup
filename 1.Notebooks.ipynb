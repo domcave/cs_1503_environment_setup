{
 "cells": [
  {
   "cell_type": "markdown",
   "id": "fbd9328d",
   "metadata": {},
   "source": [
    "# Lab 1\n",
    "- Dominick Dellecave\n",
    "- 1/19/24"
   ]
  },
  {
   "cell_type": "markdown",
   "id": "52430c3f",
   "metadata": {},
   "source": [
    "## Markdown Exercises\n",
    "I am very interested in **machine learning** because it is fascinating to see how we can simulate the *human brain* on a computer with *neural networks*. It has also become increasingly popular over the past few years, so I want to **understand it better** as I look towards starting my career.\n",
    "- How neural networks work\n",
    "- How to use python libraries to create an ML application\n",
    "- A deeper understanding of the math supplementing ML"
   ]
  },
  {
   "cell_type": "markdown",
   "id": "6c4e0d6a",
   "metadata": {},
   "source": [
    "![gif:](https://media.giphy.com/media/SC0VDXns3gvS0/giphy.gif)"
   ]
  },
  {
   "cell_type": "markdown",
   "id": "dce82ebc",
   "metadata": {},
   "source": [
    "## Jupyter Notebook Exercises"
   ]
  },
  {
   "cell_type": "code",
   "execution_count": 1,
   "id": "f8b14435",
   "metadata": {},
   "outputs": [
    {
     "name": "stdout",
     "output_type": "stream",
     "text": [
      "What is your name? Dominick\n",
      "Hello Dominick!\n"
     ]
    }
   ],
   "source": [
    "name = input(prompt=\"What is your name? \")\n",
    "print('Hello ' + name + '!')"
   ]
  },
  {
   "cell_type": "code",
   "execution_count": null,
   "id": "d7a1e9db",
   "metadata": {},
   "outputs": [],
   "source": []
  }
 ],
 "metadata": {
  "kernelspec": {
   "display_name": "Python 3 (ipykernel)",
   "language": "python",
   "name": "python3"
  },
  "language_info": {
   "codemirror_mode": {
    "name": "ipython",
    "version": 3
   },
   "file_extension": ".py",
   "mimetype": "text/x-python",
   "name": "python",
   "nbconvert_exporter": "python",
   "pygments_lexer": "ipython3",
   "version": "3.11.5"
  }
 },
 "nbformat": 4,
 "nbformat_minor": 5
}
